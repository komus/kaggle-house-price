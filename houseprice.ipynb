{
 "cells": [
  {
   "cell_type": "code",
   "execution_count": 8,
   "source": [
    "import pandas as pd\n",
    "from math import log\n",
    "import numpy as np\n",
    "from sklearn.metrics import mean_squared_error"
   ],
   "outputs": [],
   "metadata": {}
  },
  {
   "cell_type": "markdown",
   "source": [
    "------------------OVERVIEW-------------------\n",
    "\n",
    "\n",
    "The aim of the project is to develop a predictive model that predicts final prices of homes. This project is a submission for Kaggle House prices competition and Turing College to demostrate my knowledge of python and Machine Learning. \n",
    "\n",
    "Ask a home buyer to describe their dream house, and they probably won't begin with the height of the basement ceiling or the proximity to an east-west railroad. But this playground competition's dataset proves that much more influences price negotiations than the number of bedrooms or a white-picket fence.\n",
    "\n",
    "The Ames Housing dataset was compiled by Dean De Cock for use in data science education. It's an incredible alternative for data scientists looking for a modernized and expanded version of the often cited Boston Housing dataset. "
   ],
   "metadata": {}
  },
  {
   "cell_type": "markdown",
   "source": [
    "-------------GOALS and METRICS---------------\n",
    "\n",
    "\n",
    "The goal is to predict the sales price for each house. For each Id in the test set, the value of SalePrice variable must be predicted. The predicted values for test is evaluated using Root-Mean-Squared-Error (RMSE) between the logarithm of the predicted value and the logarithm of the observed sales price. "
   ],
   "metadata": {}
  },
  {
   "cell_type": "code",
   "execution_count": 9,
   "source": [
    "def evaluation_metric(predicted_value, actual_value) -> float:\n",
    "    '''\n",
    "        Evaluation \n",
    "    '''\n",
    "    rmse = mean_squared_error(log(actual_value),log(predicted_value), squared=False)\n",
    "    return rmse"
   ],
   "outputs": [],
   "metadata": {}
  },
  {
   "cell_type": "markdown",
   "source": [
    "------------EXPLORATION---------------------"
   ],
   "metadata": {}
  },
  {
   "cell_type": "markdown",
   "source": [
    "--------------FEATURE ANALYSIS--------------"
   ],
   "metadata": {}
  },
  {
   "cell_type": "markdown",
   "source": [
    "--------------LINEAR REGRESSION MODEL--------------------"
   ],
   "metadata": {}
  },
  {
   "cell_type": "markdown",
   "source": [
    "-------------- RANDOM FOREST MODEL ---------------------"
   ],
   "metadata": {}
  },
  {
   "cell_type": "markdown",
   "source": [
    "-----------ENSEMBLE--------------------"
   ],
   "metadata": {}
  },
  {
   "cell_type": "markdown",
   "source": [
    "-----------------MODEL EVALUATION-----------"
   ],
   "metadata": {}
  },
  {
   "cell_type": "code",
   "execution_count": null,
   "source": [],
   "outputs": [],
   "metadata": {}
  },
  {
   "cell_type": "code",
   "execution_count": null,
   "source": [],
   "outputs": [],
   "metadata": {}
  }
 ],
 "metadata": {
  "orig_nbformat": 4,
  "language_info": {
   "name": "python",
   "version": "3.8.8",
   "mimetype": "text/x-python",
   "codemirror_mode": {
    "name": "ipython",
    "version": 3
   },
   "pygments_lexer": "ipython3",
   "nbconvert_exporter": "python",
   "file_extension": ".py"
  },
  "kernelspec": {
   "name": "python388jvsc74a57bd054bf20cfa4609ddcd5ac04d1b3ad964fe2a44ba61ecffc86834ee12c5c7e2ea2",
   "display_name": "Python 3.8.8 64-bit ('vstack': venv)",
   "language": "python"
  },
  "interpreter": {
   "hash": "59d88d4b695355297e6fdea6f37004f8e1d4c9e8c55729368892f2955233b188"
  }
 },
 "nbformat": 4,
 "nbformat_minor": 2
}